{
 "cells": [
  {
   "cell_type": "code",
   "execution_count": 2,
   "metadata": {},
   "outputs": [
    {
     "name": "stdout",
     "output_type": "stream",
     "text": [
      "MoviePy - Writing audio in beatF.mp3\n"
     ]
    },
    {
     "name": "stderr",
     "output_type": "stream",
     "text": [
      "                                                       "
     ]
    },
    {
     "name": "stdout",
     "output_type": "stream",
     "text": [
      "MoviePy - Done.\n"
     ]
    },
    {
     "name": "stderr",
     "output_type": "stream",
     "text": [
      "\r"
     ]
    }
   ],
   "source": [
    "from moviepy.editor import VideoFileClip\n",
    "\n",
    "def convert_mp4_to_mp3(input_file, output_file):\n",
    "    # mp4ファイルを読み込む\n",
    "    video_clip = VideoFileClip(input_file)\n",
    "\n",
    "    # mp3に変換して保存する\n",
    "    audio_clip = video_clip.audio\n",
    "    audio_clip.write_audiofile(output_file)\n",
    "\n",
    "    # クリーンアップ\n",
    "    audio_clip.close()\n",
    "    video_clip.close()\n",
    "\n",
    "if __name__ == \"__main__\":\n",
    "    input_file = \"beatF.mp4\"  # 入力のmp4ファイル名を指定\n",
    "    output_file = \"beatF.mp3\"  # 出力のmp3ファイル名を指定\n",
    "\n",
    "    convert_mp4_to_mp3(input_file, output_file)\n"
   ]
  },
  {
   "cell_type": "code",
   "execution_count": null,
   "metadata": {},
   "outputs": [],
   "source": []
  }
 ],
 "metadata": {
  "kernelspec": {
   "display_name": "base",
   "language": "python",
   "name": "python3"
  },
  "language_info": {
   "codemirror_mode": {
    "name": "ipython",
    "version": 3
   },
   "file_extension": ".py",
   "mimetype": "text/x-python",
   "name": "python",
   "nbconvert_exporter": "python",
   "pygments_lexer": "ipython3",
   "version": "3.11.4"
  }
 },
 "nbformat": 4,
 "nbformat_minor": 2
}
